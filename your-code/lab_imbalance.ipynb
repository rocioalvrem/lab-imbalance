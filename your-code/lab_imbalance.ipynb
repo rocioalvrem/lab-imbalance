{
 "cells": [
  {
   "cell_type": "markdown",
   "metadata": {},
   "source": [
    "# Inbalanced Classes\n",
    "## In this lab, we are going to explore a case of imbalanced classes. \n",
    "\n",
    "\n",
    "Like we disussed in class, when we have noisy data, if we are not careful, we can end up fitting our model to the noise in the data and not the 'signal'-- the factors that actually determine the outcome. This is called overfitting, and results in good results in training, and in bad results when the model is applied to real data. Similarly, we could have a model that is too simplistic to accurately model the signal. This produces a model that doesnt work well (ever). \n"
   ]
  },
  {
   "cell_type": "markdown",
   "metadata": {},
   "source": [
    "### Note: before doing the first commit, make sure you don't include the large csv file, either by adding it to .gitignore, or by deleting it."
   ]
  },
  {
   "cell_type": "markdown",
   "metadata": {},
   "source": [
    "### First, download the data from: https://www.kaggle.com/datasets/chitwanmanchanda/fraudulent-transactions-data?resource=download . Import the dataset and provide some discriptive statistics and plots. What do you think will be the important features in determining the outcome?\n",
    "### Note: don't use the entire dataset, use a sample instead, with n=100000 elements, so your computer doesn't freeze."
   ]
  },
  {
   "cell_type": "code",
   "execution_count": 256,
   "metadata": {},
   "outputs": [
    {
     "data": {
      "text/html": [
       "<div>\n",
       "<style scoped>\n",
       "    .dataframe tbody tr th:only-of-type {\n",
       "        vertical-align: middle;\n",
       "    }\n",
       "\n",
       "    .dataframe tbody tr th {\n",
       "        vertical-align: top;\n",
       "    }\n",
       "\n",
       "    .dataframe thead th {\n",
       "        text-align: right;\n",
       "    }\n",
       "</style>\n",
       "<table border=\"1\" class=\"dataframe\">\n",
       "  <thead>\n",
       "    <tr style=\"text-align: right;\">\n",
       "      <th></th>\n",
       "      <th>step</th>\n",
       "      <th>type</th>\n",
       "      <th>amount</th>\n",
       "      <th>nameOrig</th>\n",
       "      <th>oldbalanceOrg</th>\n",
       "      <th>newbalanceOrig</th>\n",
       "      <th>nameDest</th>\n",
       "      <th>oldbalanceDest</th>\n",
       "      <th>newbalanceDest</th>\n",
       "      <th>isFraud</th>\n",
       "      <th>isFlaggedFraud</th>\n",
       "    </tr>\n",
       "  </thead>\n",
       "  <tbody>\n",
       "    <tr>\n",
       "      <th>3342574</th>\n",
       "      <td>253</td>\n",
       "      <td>PAYMENT</td>\n",
       "      <td>2319.61</td>\n",
       "      <td>C639152325</td>\n",
       "      <td>4350.86</td>\n",
       "      <td>2031.25</td>\n",
       "      <td>M171689188</td>\n",
       "      <td>0.0</td>\n",
       "      <td>0.0</td>\n",
       "      <td>0</td>\n",
       "      <td>0</td>\n",
       "    </tr>\n",
       "    <tr>\n",
       "      <th>5465562</th>\n",
       "      <td>379</td>\n",
       "      <td>PAYMENT</td>\n",
       "      <td>13312.22</td>\n",
       "      <td>C1455211821</td>\n",
       "      <td>20121.00</td>\n",
       "      <td>6808.78</td>\n",
       "      <td>M1234400945</td>\n",
       "      <td>0.0</td>\n",
       "      <td>0.0</td>\n",
       "      <td>0</td>\n",
       "      <td>0</td>\n",
       "    </tr>\n",
       "    <tr>\n",
       "      <th>1783359</th>\n",
       "      <td>162</td>\n",
       "      <td>PAYMENT</td>\n",
       "      <td>17693.10</td>\n",
       "      <td>C509207956</td>\n",
       "      <td>30216.00</td>\n",
       "      <td>12522.90</td>\n",
       "      <td>M642137224</td>\n",
       "      <td>0.0</td>\n",
       "      <td>0.0</td>\n",
       "      <td>0</td>\n",
       "      <td>0</td>\n",
       "    </tr>\n",
       "  </tbody>\n",
       "</table>\n",
       "</div>"
      ],
      "text/plain": [
       "         step     type    amount     nameOrig  oldbalanceOrg  newbalanceOrig  \\\n",
       "3342574   253  PAYMENT   2319.61   C639152325        4350.86         2031.25   \n",
       "5465562   379  PAYMENT  13312.22  C1455211821       20121.00         6808.78   \n",
       "1783359   162  PAYMENT  17693.10   C509207956       30216.00        12522.90   \n",
       "\n",
       "            nameDest  oldbalanceDest  newbalanceDest  isFraud  isFlaggedFraud  \n",
       "3342574   M171689188             0.0             0.0        0               0  \n",
       "5465562  M1234400945             0.0             0.0        0               0  \n",
       "1783359   M642137224             0.0             0.0        0               0  "
      ]
     },
     "execution_count": 256,
     "metadata": {},
     "output_type": "execute_result"
    }
   ],
   "source": [
    "# Your code here\n",
    "import pandas as pd\n",
    "fraud = pd.read_csv(\"Fraud.csv\")\n",
    "fraud =fraud.sample(100000)\n",
    "fraud.head(3)"
   ]
  },
  {
   "cell_type": "markdown",
   "metadata": {},
   "source": [
    "### What is the distribution of the outcome? "
   ]
  },
  {
   "cell_type": "code",
   "execution_count": 352,
   "metadata": {},
   "outputs": [
    {
     "data": {
      "text/plain": [
       "0    99878\n",
       "1      122\n",
       "Name: isFraud, dtype: int64"
      ]
     },
     "execution_count": 352,
     "metadata": {},
     "output_type": "execute_result"
    }
   ],
   "source": [
    "# Your response here\n",
    "fraud['isFraud'].value_counts()"
   ]
  },
  {
   "cell_type": "markdown",
   "metadata": {},
   "source": [
    "### Clean the dataset. Pre-process it to make it suitable for ML training. Feel free to explore, drop, encode, transform, etc. Whatever you feel will improve the model score."
   ]
  },
  {
   "cell_type": "code",
   "execution_count": 353,
   "metadata": {},
   "outputs": [
    {
     "name": "stdout",
     "output_type": "stream",
     "text": [
      "step                int64\n",
      "type               object\n",
      "amount            float64\n",
      "nameOrig           object\n",
      "oldbalanceOrg     float64\n",
      "newbalanceOrig    float64\n",
      "nameDest           object\n",
      "oldbalanceDest    float64\n",
      "newbalanceDest    float64\n",
      "isFraud             int64\n",
      "isFlaggedFraud      int64\n",
      "type_mapped         int64\n",
      "Fraud_Dest          int64\n",
      "Fraud_Orig        float64\n",
      "dtype: object\n",
      "step              0\n",
      "type              0\n",
      "amount            0\n",
      "nameOrig          0\n",
      "oldbalanceOrg     0\n",
      "newbalanceOrig    0\n",
      "nameDest          0\n",
      "oldbalanceDest    0\n",
      "newbalanceDest    0\n",
      "isFraud           0\n",
      "isFlaggedFraud    0\n",
      "type_mapped       0\n",
      "Fraud_Dest        0\n",
      "Fraud_Orig        0\n",
      "dtype: int64\n",
      "                step        amount  oldbalanceOrg  newbalanceOrig  \\\n",
      "count  100000.000000  1.000000e+05   1.000000e+05    1.000000e+05   \n",
      "mean      243.557880  1.776355e+05   8.253052e+05    8.466700e+05   \n",
      "std       142.073478  6.038890e+05   2.865992e+06    2.901656e+06   \n",
      "min         1.000000  7.300000e-01   0.000000e+00    0.000000e+00   \n",
      "25%       156.000000  1.336377e+04   0.000000e+00    0.000000e+00   \n",
      "50%       241.000000  7.432414e+04   1.428500e+04    0.000000e+00   \n",
      "75%       335.000000  2.082201e+05   1.066835e+05    1.439428e+05   \n",
      "max       730.000000  6.423445e+07   4.169914e+07    4.169084e+07   \n",
      "\n",
      "       oldbalanceDest  newbalanceDest        isFraud  isFlaggedFraud  \\\n",
      "count    1.000000e+05    1.000000e+05  100000.000000        100000.0   \n",
      "mean     1.086794e+06    1.209962e+06       0.001220             0.0   \n",
      "std      3.527757e+06    3.837721e+06       0.034907             0.0   \n",
      "min      0.000000e+00    0.000000e+00       0.000000             0.0   \n",
      "25%      0.000000e+00    0.000000e+00       0.000000             0.0   \n",
      "50%      1.306873e+05    2.113231e+05       0.000000             0.0   \n",
      "75%      9.273910e+05    1.097732e+06       0.000000             0.0   \n",
      "max      2.916677e+08    3.215898e+08       1.000000             0.0   \n",
      "\n",
      "         type_mapped     Fraud_Dest  Fraud_Orig  \n",
      "count  100000.000000  100000.000000    100000.0  \n",
      "mean        0.433480       0.001360         0.0  \n",
      "std         0.495558       0.036853         0.0  \n",
      "min         0.000000       0.000000         0.0  \n",
      "25%         0.000000       0.000000         0.0  \n",
      "50%         0.000000       0.000000         0.0  \n",
      "75%         1.000000       0.000000         0.0  \n",
      "max         1.000000       1.000000         0.0  \n",
      "0    99878\n",
      "1      122\n",
      "Name: isFraud, dtype: int64\n"
     ]
    }
   ],
   "source": [
    "# Your code here\n",
    "fraud.reset_index(drop=True, inplace=True)\n",
    "print(fraud.dtypes)\n",
    "print(fraud.isnull().sum())\n",
    "print(fraud.describe())\n",
    "print(fraud['isFraud'].value_counts())\n",
    "\n"
   ]
  },
  {
   "cell_type": "code",
   "execution_count": 354,
   "metadata": {},
   "outputs": [
    {
     "name": "stdout",
     "output_type": "stream",
     "text": [
      "'isFraud' and 'isFlaggedFraud' are different.\n"
     ]
    }
   ],
   "source": [
    "mismos_valores = fraud['isFraud'].equals(fraud['isFlaggedFraud'])\n",
    "\n",
    "# Imprimir el resultado\n",
    "if mismos_valores:\n",
    "    print(\"'isFraud' and 'isFlaggedFraud' are not different.\")\n",
    "else:\n",
    "    print(\"'isFraud' and 'isFlaggedFraud' are different.\")"
   ]
  },
  {
   "cell_type": "markdown",
   "metadata": {},
   "source": [
    "Description of variables:\n",
    "\n",
    "step - maps a unit of time in the real world. In this case 1 step is 1 hour of time. Total steps 744 (30 days simulation).\n",
    "\n",
    "type - CASH-IN, CASH-OUT, DEBIT, PAYMENT and TRANSFER.\n",
    "\n",
    "amount - amount of the transaction in local currency.\n",
    "\n",
    "nameOrig - customer who started the transaction\n",
    "\n",
    "oldbalanceOrg - initial balance before the transaction\n",
    "\n",
    "newbalanceOrig - new balance after the transaction\n",
    "\n",
    "nameDest - customer who is the recipient of the transaction\n",
    "\n",
    "oldbalanceDest - initial balance recipient before the transaction. Note that there is not information for customers that start with M (Merchants).\n",
    "\n",
    "newbalanceDest - new balance recipient after the transaction. Note that there is not information for customers that start with M (Merchants).\n",
    "\n",
    "isFraud - This is the transactions made by the fraudulent agents inside the simulation. In this specific dataset the fraudulent behavior of the agents aims to profit by taking control or customers accounts and try to empty the funds by transferring to another account and then cashing out of the system.\n",
    "\n",
    "isFlaggedFraud - The business model aims to control massive transfers from one account to another and flags illegal attempts. An illegal attempt in this dataset is an attempt to transfer more than 200.000 in a single transaction.\"\n",
    "\n",
    ")"
   ]
  },
  {
   "cell_type": "code",
   "execution_count": 355,
   "metadata": {},
   "outputs": [
    {
     "data": {
      "text/html": [
       "<div>\n",
       "<style scoped>\n",
       "    .dataframe tbody tr th:only-of-type {\n",
       "        vertical-align: middle;\n",
       "    }\n",
       "\n",
       "    .dataframe tbody tr th {\n",
       "        vertical-align: top;\n",
       "    }\n",
       "\n",
       "    .dataframe thead th {\n",
       "        text-align: right;\n",
       "    }\n",
       "</style>\n",
       "<table border=\"1\" class=\"dataframe\">\n",
       "  <thead>\n",
       "    <tr style=\"text-align: right;\">\n",
       "      <th></th>\n",
       "      <th>step</th>\n",
       "      <th>amount</th>\n",
       "      <th>oldbalanceOrg</th>\n",
       "      <th>newbalanceOrig</th>\n",
       "      <th>oldbalanceDest</th>\n",
       "      <th>newbalanceDest</th>\n",
       "      <th>isFraud</th>\n",
       "      <th>isFlaggedFraud</th>\n",
       "      <th>type_mapped</th>\n",
       "      <th>Fraud_Dest</th>\n",
       "      <th>Fraud_Orig</th>\n",
       "    </tr>\n",
       "  </thead>\n",
       "  <tbody>\n",
       "    <tr>\n",
       "      <th>count</th>\n",
       "      <td>122.000000</td>\n",
       "      <td>1.220000e+02</td>\n",
       "      <td>1.220000e+02</td>\n",
       "      <td>1.220000e+02</td>\n",
       "      <td>1.220000e+02</td>\n",
       "      <td>1.220000e+02</td>\n",
       "      <td>122.0</td>\n",
       "      <td>122.0</td>\n",
       "      <td>122.0</td>\n",
       "      <td>122.0</td>\n",
       "      <td>122.0</td>\n",
       "    </tr>\n",
       "    <tr>\n",
       "      <th>mean</th>\n",
       "      <td>325.844262</td>\n",
       "      <td>1.301673e+06</td>\n",
       "      <td>1.424951e+06</td>\n",
       "      <td>1.266882e+05</td>\n",
       "      <td>6.650481e+05</td>\n",
       "      <td>1.319728e+06</td>\n",
       "      <td>1.0</td>\n",
       "      <td>0.0</td>\n",
       "      <td>1.0</td>\n",
       "      <td>1.0</td>\n",
       "      <td>0.0</td>\n",
       "    </tr>\n",
       "    <tr>\n",
       "      <th>std</th>\n",
       "      <td>224.137908</td>\n",
       "      <td>2.221270e+06</td>\n",
       "      <td>3.020377e+06</td>\n",
       "      <td>1.399317e+06</td>\n",
       "      <td>2.695893e+06</td>\n",
       "      <td>3.695891e+06</td>\n",
       "      <td>0.0</td>\n",
       "      <td>0.0</td>\n",
       "      <td>0.0</td>\n",
       "      <td>0.0</td>\n",
       "      <td>0.0</td>\n",
       "    </tr>\n",
       "    <tr>\n",
       "      <th>min</th>\n",
       "      <td>1.000000</td>\n",
       "      <td>4.530710e+03</td>\n",
       "      <td>0.000000e+00</td>\n",
       "      <td>0.000000e+00</td>\n",
       "      <td>0.000000e+00</td>\n",
       "      <td>0.000000e+00</td>\n",
       "      <td>1.0</td>\n",
       "      <td>0.0</td>\n",
       "      <td>1.0</td>\n",
       "      <td>1.0</td>\n",
       "      <td>0.0</td>\n",
       "    </tr>\n",
       "    <tr>\n",
       "      <th>25%</th>\n",
       "      <td>127.500000</td>\n",
       "      <td>1.150278e+05</td>\n",
       "      <td>9.849830e+04</td>\n",
       "      <td>0.000000e+00</td>\n",
       "      <td>0.000000e+00</td>\n",
       "      <td>0.000000e+00</td>\n",
       "      <td>1.0</td>\n",
       "      <td>0.0</td>\n",
       "      <td>1.0</td>\n",
       "      <td>1.0</td>\n",
       "      <td>0.0</td>\n",
       "    </tr>\n",
       "    <tr>\n",
       "      <th>50%</th>\n",
       "      <td>300.500000</td>\n",
       "      <td>3.636710e+05</td>\n",
       "      <td>3.543131e+05</td>\n",
       "      <td>0.000000e+00</td>\n",
       "      <td>0.000000e+00</td>\n",
       "      <td>2.933056e+04</td>\n",
       "      <td>1.0</td>\n",
       "      <td>0.0</td>\n",
       "      <td>1.0</td>\n",
       "      <td>1.0</td>\n",
       "      <td>0.0</td>\n",
       "    </tr>\n",
       "    <tr>\n",
       "      <th>75%</th>\n",
       "      <td>534.000000</td>\n",
       "      <td>1.138580e+06</td>\n",
       "      <td>1.138580e+06</td>\n",
       "      <td>0.000000e+00</td>\n",
       "      <td>1.663021e+05</td>\n",
       "      <td>1.054479e+06</td>\n",
       "      <td>1.0</td>\n",
       "      <td>0.0</td>\n",
       "      <td>1.0</td>\n",
       "      <td>1.0</td>\n",
       "      <td>0.0</td>\n",
       "    </tr>\n",
       "    <tr>\n",
       "      <th>max</th>\n",
       "      <td>730.000000</td>\n",
       "      <td>1.000000e+07</td>\n",
       "      <td>2.545597e+07</td>\n",
       "      <td>1.545597e+07</td>\n",
       "      <td>2.682958e+07</td>\n",
       "      <td>3.461831e+07</td>\n",
       "      <td>1.0</td>\n",
       "      <td>0.0</td>\n",
       "      <td>1.0</td>\n",
       "      <td>1.0</td>\n",
       "      <td>0.0</td>\n",
       "    </tr>\n",
       "  </tbody>\n",
       "</table>\n",
       "</div>"
      ],
      "text/plain": [
       "             step        amount  oldbalanceOrg  newbalanceOrig  \\\n",
       "count  122.000000  1.220000e+02   1.220000e+02    1.220000e+02   \n",
       "mean   325.844262  1.301673e+06   1.424951e+06    1.266882e+05   \n",
       "std    224.137908  2.221270e+06   3.020377e+06    1.399317e+06   \n",
       "min      1.000000  4.530710e+03   0.000000e+00    0.000000e+00   \n",
       "25%    127.500000  1.150278e+05   9.849830e+04    0.000000e+00   \n",
       "50%    300.500000  3.636710e+05   3.543131e+05    0.000000e+00   \n",
       "75%    534.000000  1.138580e+06   1.138580e+06    0.000000e+00   \n",
       "max    730.000000  1.000000e+07   2.545597e+07    1.545597e+07   \n",
       "\n",
       "       oldbalanceDest  newbalanceDest  isFraud  isFlaggedFraud  type_mapped  \\\n",
       "count    1.220000e+02    1.220000e+02    122.0           122.0        122.0   \n",
       "mean     6.650481e+05    1.319728e+06      1.0             0.0          1.0   \n",
       "std      2.695893e+06    3.695891e+06      0.0             0.0          0.0   \n",
       "min      0.000000e+00    0.000000e+00      1.0             0.0          1.0   \n",
       "25%      0.000000e+00    0.000000e+00      1.0             0.0          1.0   \n",
       "50%      0.000000e+00    2.933056e+04      1.0             0.0          1.0   \n",
       "75%      1.663021e+05    1.054479e+06      1.0             0.0          1.0   \n",
       "max      2.682958e+07    3.461831e+07      1.0             0.0          1.0   \n",
       "\n",
       "       Fraud_Dest  Fraud_Orig  \n",
       "count       122.0       122.0  \n",
       "mean          1.0         0.0  \n",
       "std           0.0         0.0  \n",
       "min           1.0         0.0  \n",
       "25%           1.0         0.0  \n",
       "50%           1.0         0.0  \n",
       "75%           1.0         0.0  \n",
       "max           1.0         0.0  "
      ]
     },
     "execution_count": 355,
     "metadata": {},
     "output_type": "execute_result"
    }
   ],
   "source": [
    "fraud_fraud = fraud[fraud['isFraud']==1]\n",
    "fraud_fraud.describe()"
   ]
  },
  {
   "cell_type": "code",
   "execution_count": 356,
   "metadata": {},
   "outputs": [
    {
     "data": {
      "text/html": [
       "<div>\n",
       "<style scoped>\n",
       "    .dataframe tbody tr th:only-of-type {\n",
       "        vertical-align: middle;\n",
       "    }\n",
       "\n",
       "    .dataframe tbody tr th {\n",
       "        vertical-align: top;\n",
       "    }\n",
       "\n",
       "    .dataframe thead th {\n",
       "        text-align: right;\n",
       "    }\n",
       "</style>\n",
       "<table border=\"1\" class=\"dataframe\">\n",
       "  <thead>\n",
       "    <tr style=\"text-align: right;\">\n",
       "      <th></th>\n",
       "      <th>step</th>\n",
       "      <th>amount</th>\n",
       "      <th>oldbalanceOrg</th>\n",
       "      <th>newbalanceOrig</th>\n",
       "      <th>oldbalanceDest</th>\n",
       "      <th>newbalanceDest</th>\n",
       "      <th>isFraud</th>\n",
       "      <th>isFlaggedFraud</th>\n",
       "      <th>type_mapped</th>\n",
       "      <th>Fraud_Dest</th>\n",
       "      <th>Fraud_Orig</th>\n",
       "    </tr>\n",
       "  </thead>\n",
       "  <tbody>\n",
       "    <tr>\n",
       "      <th>count</th>\n",
       "      <td>99878.000000</td>\n",
       "      <td>9.987800e+04</td>\n",
       "      <td>9.987800e+04</td>\n",
       "      <td>9.987800e+04</td>\n",
       "      <td>9.987800e+04</td>\n",
       "      <td>9.987800e+04</td>\n",
       "      <td>99878.0</td>\n",
       "      <td>99878.0</td>\n",
       "      <td>99878.000000</td>\n",
       "      <td>99878.000000</td>\n",
       "      <td>99878.0</td>\n",
       "    </tr>\n",
       "    <tr>\n",
       "      <th>mean</th>\n",
       "      <td>243.457368</td>\n",
       "      <td>1.762625e+05</td>\n",
       "      <td>8.245728e+05</td>\n",
       "      <td>8.475495e+05</td>\n",
       "      <td>1.087309e+06</td>\n",
       "      <td>1.209828e+06</td>\n",
       "      <td>0.0</td>\n",
       "      <td>0.0</td>\n",
       "      <td>0.432788</td>\n",
       "      <td>0.000140</td>\n",
       "      <td>0.0</td>\n",
       "    </tr>\n",
       "    <tr>\n",
       "      <th>std</th>\n",
       "      <td>141.916826</td>\n",
       "      <td>5.980005e+05</td>\n",
       "      <td>2.865738e+06</td>\n",
       "      <td>2.902910e+06</td>\n",
       "      <td>3.528633e+06</td>\n",
       "      <td>3.837907e+06</td>\n",
       "      <td>0.0</td>\n",
       "      <td>0.0</td>\n",
       "      <td>0.495464</td>\n",
       "      <td>0.011839</td>\n",
       "      <td>0.0</td>\n",
       "    </tr>\n",
       "    <tr>\n",
       "      <th>min</th>\n",
       "      <td>1.000000</td>\n",
       "      <td>7.300000e-01</td>\n",
       "      <td>0.000000e+00</td>\n",
       "      <td>0.000000e+00</td>\n",
       "      <td>0.000000e+00</td>\n",
       "      <td>0.000000e+00</td>\n",
       "      <td>0.0</td>\n",
       "      <td>0.0</td>\n",
       "      <td>0.000000</td>\n",
       "      <td>0.000000</td>\n",
       "      <td>0.0</td>\n",
       "    </tr>\n",
       "    <tr>\n",
       "      <th>25%</th>\n",
       "      <td>156.000000</td>\n",
       "      <td>1.333737e+04</td>\n",
       "      <td>0.000000e+00</td>\n",
       "      <td>0.000000e+00</td>\n",
       "      <td>0.000000e+00</td>\n",
       "      <td>0.000000e+00</td>\n",
       "      <td>0.0</td>\n",
       "      <td>0.0</td>\n",
       "      <td>0.000000</td>\n",
       "      <td>0.000000</td>\n",
       "      <td>0.0</td>\n",
       "    </tr>\n",
       "    <tr>\n",
       "      <th>50%</th>\n",
       "      <td>240.000000</td>\n",
       "      <td>7.410962e+04</td>\n",
       "      <td>1.415650e+04</td>\n",
       "      <td>0.000000e+00</td>\n",
       "      <td>1.312666e+05</td>\n",
       "      <td>2.115385e+05</td>\n",
       "      <td>0.0</td>\n",
       "      <td>0.0</td>\n",
       "      <td>0.000000</td>\n",
       "      <td>0.000000</td>\n",
       "      <td>0.0</td>\n",
       "    </tr>\n",
       "    <tr>\n",
       "      <th>75%</th>\n",
       "      <td>335.000000</td>\n",
       "      <td>2.079304e+05</td>\n",
       "      <td>1.064195e+05</td>\n",
       "      <td>1.444596e+05</td>\n",
       "      <td>9.284076e+05</td>\n",
       "      <td>1.097803e+06</td>\n",
       "      <td>0.0</td>\n",
       "      <td>0.0</td>\n",
       "      <td>1.000000</td>\n",
       "      <td>0.000000</td>\n",
       "      <td>0.0</td>\n",
       "    </tr>\n",
       "    <tr>\n",
       "      <th>max</th>\n",
       "      <td>718.000000</td>\n",
       "      <td>6.423445e+07</td>\n",
       "      <td>4.169914e+07</td>\n",
       "      <td>4.169084e+07</td>\n",
       "      <td>2.916677e+08</td>\n",
       "      <td>3.215898e+08</td>\n",
       "      <td>0.0</td>\n",
       "      <td>0.0</td>\n",
       "      <td>1.000000</td>\n",
       "      <td>1.000000</td>\n",
       "      <td>0.0</td>\n",
       "    </tr>\n",
       "  </tbody>\n",
       "</table>\n",
       "</div>"
      ],
      "text/plain": [
       "               step        amount  oldbalanceOrg  newbalanceOrig  \\\n",
       "count  99878.000000  9.987800e+04   9.987800e+04    9.987800e+04   \n",
       "mean     243.457368  1.762625e+05   8.245728e+05    8.475495e+05   \n",
       "std      141.916826  5.980005e+05   2.865738e+06    2.902910e+06   \n",
       "min        1.000000  7.300000e-01   0.000000e+00    0.000000e+00   \n",
       "25%      156.000000  1.333737e+04   0.000000e+00    0.000000e+00   \n",
       "50%      240.000000  7.410962e+04   1.415650e+04    0.000000e+00   \n",
       "75%      335.000000  2.079304e+05   1.064195e+05    1.444596e+05   \n",
       "max      718.000000  6.423445e+07   4.169914e+07    4.169084e+07   \n",
       "\n",
       "       oldbalanceDest  newbalanceDest  isFraud  isFlaggedFraud   type_mapped  \\\n",
       "count    9.987800e+04    9.987800e+04  99878.0         99878.0  99878.000000   \n",
       "mean     1.087309e+06    1.209828e+06      0.0             0.0      0.432788   \n",
       "std      3.528633e+06    3.837907e+06      0.0             0.0      0.495464   \n",
       "min      0.000000e+00    0.000000e+00      0.0             0.0      0.000000   \n",
       "25%      0.000000e+00    0.000000e+00      0.0             0.0      0.000000   \n",
       "50%      1.312666e+05    2.115385e+05      0.0             0.0      0.000000   \n",
       "75%      9.284076e+05    1.097803e+06      0.0             0.0      1.000000   \n",
       "max      2.916677e+08    3.215898e+08      0.0             0.0      1.000000   \n",
       "\n",
       "         Fraud_Dest  Fraud_Orig  \n",
       "count  99878.000000     99878.0  \n",
       "mean       0.000140         0.0  \n",
       "std        0.011839         0.0  \n",
       "min        0.000000         0.0  \n",
       "25%        0.000000         0.0  \n",
       "50%        0.000000         0.0  \n",
       "75%        0.000000         0.0  \n",
       "max        1.000000         0.0  "
      ]
     },
     "execution_count": 356,
     "metadata": {},
     "output_type": "execute_result"
    }
   ],
   "source": [
    "fraud_no_fraud = fraud[fraud['isFraud']==0]\n",
    "fraud_no_fraud.describe()"
   ]
  },
  {
   "cell_type": "code",
   "execution_count": 357,
   "metadata": {},
   "outputs": [
    {
     "data": {
      "image/png": "[encoded data removed]",
      "text/plain": [
       "<Figure size 720x432 with 1 Axes>"
      ]
     },
     "metadata": {},
     "output_type": "display_data"
    },
    {
     "name": "stdout",
     "output_type": "stream",
     "text": [
      "Fraud transaction are normally with less amount, more homogenious. Normal transaction is not so homogenious.\n",
      "mean of the amount of fraud transactions: 1301672.511885246\n",
      "mean of the amount of fraud transactions: 1301672.511885246 Percentile 80: 1628026.8120000013\n",
      "mean of the amount of no fraud transactions: 176262.46380654266 Percentile 80: 244821.64800000004\n"
     ]
    }
   ],
   "source": [
    "import seaborn as sns\n",
    "import matplotlib.pyplot as plt\n",
    "import numpy as np\n",
    "\n",
    "sns.set(style=\"whitegrid\")\n",
    "\n",
    "\n",
    "plt.figure(figsize=(10, 6))\n",
    "\n",
    "sns.kdeplot(fraud_fraud['amount'], shade=True, label='Fraud flag = 1', color='blue')\n",
    "sns.kdeplot(fraud_no_fraud['amount'], shade=True, label='Fraud flag = 0', color='red')\n",
    "\n",
    "# Añadir título y etiquetas de los ejes\n",
    "plt.title('Amount distribution of sample with fraud and without fraud')\n",
    "plt.xlabel('Amount')\n",
    "plt.ylabel('Density')\n",
    "\n",
    "# Añadir una leyenda\n",
    "plt.legend()\n",
    "\n",
    "# Mostrar el gráfico\n",
    "plt.show()\n",
    "percentile_80 = np.percentile(fraud_fraud['amount'], 80)\n",
    "print('Fraud transaction are normally with less amount, more homogenious. Normal transaction is not so homogenious.')\n",
    "print('mean of the amount of fraud transactions:',fraud_fraud['amount'].mean())\n",
    "\n",
    "\n",
    "# Imprimir el percentil 80%\n",
    "print('mean of the amount of fraud transactions:',fraud_fraud['amount'].mean(),'Percentile 80:',np.percentile(fraud_fraud['amount'], 80))\n",
    "print('mean of the amount of no fraud transactions:',fraud_no_fraud['amount'].mean(),'Percentile 80:',np.percentile(fraud_no_fraud['amount'], 80))"
   ]
  },
  {
   "cell_type": "code",
   "execution_count": 358,
   "metadata": {},
   "outputs": [
    {
     "data": {
      "image/png": "[encoded data removed]",
      "text/plain": [
       "<Figure size 720x432 with 1 Axes>"
      ]
     },
     "metadata": {},
     "output_type": "display_data"
    },
    {
     "name": "stdout",
     "output_type": "stream",
     "text": [
      "not so intuitive\n"
     ]
    }
   ],
   "source": [
    "import pandas as pd\n",
    "import seaborn as sns\n",
    "import matplotlib.pyplot as plt\n",
    "\n",
    "\n",
    "sns.set(style=\"whitegrid\")\n",
    "\n",
    "\n",
    "plt.figure(figsize=(10, 6))\n",
    "\n",
    "sns.kdeplot(fraud_fraud['step'], shade=True, label='Fraud flag = 1', color='blue')\n",
    "sns.kdeplot(fraud_no_fraud['step'], shade=True, label='Fraud flag = 0', color='red')\n",
    "\n",
    "# Añadir título y etiquetas de los ejes\n",
    "plt.title('Step distribution of sample with fraud and without fraud')\n",
    "plt.xlabel('step')\n",
    "plt.ylabel('Density')\n",
    "\n",
    "# Añadir una leyenda\n",
    "plt.legend()\n",
    "\n",
    "# Mostrar el gráfico\n",
    "plt.show()\n",
    "print('not so intuitive')"
   ]
  },
  {
   "cell_type": "code",
   "execution_count": 359,
   "metadata": {},
   "outputs": [
    {
     "data": {
      "image/png": "[encoded data removed]",
      "text/plain": [
       "<Figure size 720x432 with 1 Axes>"
      ]
     },
     "metadata": {},
     "output_type": "display_data"
    },
    {
     "name": "stdout",
     "output_type": "stream",
     "text": [
      "mean of the balance before transactions  of fraud transactions: 1424950.9096721315 Percentile 90: 4009383.514000001\n",
      "mean of the balance before transactions  of no fraud transactions: 824572.7598160786 Percentile 90: 1760298.5470000028\n",
      "Very intuitive, less balance in the origin account before fraud\n"
     ]
    }
   ],
   "source": [
    "import pandas as pd\n",
    "import seaborn as sns\n",
    "import matplotlib.pyplot as plt\n",
    "\n",
    "\n",
    "sns.set(style=\"whitegrid\")\n",
    "\n",
    "\n",
    "plt.figure(figsize=(10, 6))\n",
    "\n",
    "sns.kdeplot(fraud_fraud['oldbalanceOrg'], shade=True, label='Fraud flag = 1', color='blue')\n",
    "sns.kdeplot(fraud_no_fraud['oldbalanceOrg'], shade=True, label='Fraud flag = 0', color='red')\n",
    "\n",
    "# Añadir título y etiquetas de los ejes\n",
    "plt.title('Balance before the transaction distribution of sample with fraud and without fraud')\n",
    "plt.xlabel('oldbalanceOrg')\n",
    "plt.ylabel('Density')\n",
    "\n",
    "# Añadir una leyenda\n",
    "plt.legend()\n",
    "\n",
    "# Mostrar el gráfico\n",
    "plt.show()\n",
    "print('mean of the balance before transactions  of fraud transactions:',fraud_fraud['oldbalanceOrg'].mean(),'Percentile 90:',np.percentile(fraud_fraud['oldbalanceOrg'], 90))\n",
    "print('mean of the balance before transactions  of no fraud transactions:',fraud_no_fraud['oldbalanceOrg'].mean(),'Percentile 90:',np.percentile(fraud_no_fraud['oldbalanceOrg'], 90)\n",
    "     )\n",
    "print('Very intuitive, less balance in the origin account before fraud')"
   ]
  },
  {
   "cell_type": "code",
   "execution_count": 360,
   "metadata": {},
   "outputs": [
    {
     "data": {
      "image/png": "[encoded data removed]",
      "text/plain": [
       "<Figure size 720x432 with 1 Axes>"
      ]
     },
     "metadata": {},
     "output_type": "display_data"
    },
    {
     "name": "stdout",
     "output_type": "stream",
     "text": [
      "mean of the balance in dest. before transactions  of fraud transactions: 665048.0500819669 Percentile 90: 974844.1130000005\n",
      "mean of the balance before transactions in dest.  of no fraud transactions: 1087308.8707221742 Percentile 90: 2877470.631000001\n",
      "Very intuitive, less balance in dest. for fraud transactions\n"
     ]
    }
   ],
   "source": [
    "import pandas as pd\n",
    "import seaborn as sns\n",
    "import matplotlib.pyplot as plt\n",
    "\n",
    "\n",
    "sns.set(style=\"whitegrid\")\n",
    "\n",
    "\n",
    "plt.figure(figsize=(10, 6))\n",
    "\n",
    "sns.kdeplot(fraud_fraud['oldbalanceDest'], shade=True, label='Fraud flag = 1', color='blue')\n",
    "sns.kdeplot(fraud_no_fraud['oldbalanceDest'], shade=True, label='Fraud flag = 0', color='red')\n",
    "\n",
    "# Añadir título y etiquetas de los ejes\n",
    "plt.title('Balance before the transaction distribution of sample with fraud and without fraud')\n",
    "plt.xlabel('oldbalanceDest')\n",
    "plt.ylabel('Density')\n",
    "\n",
    "# Añadir una leyenda\n",
    "plt.legend()\n",
    "\n",
    "# Mostrar el gráfico\n",
    "plt.show()\n",
    "print('mean of the balance in dest. before transactions  of fraud transactions:',fraud_fraud['oldbalanceDest'].mean(),'Percentile 90:',np.percentile(fraud_fraud['oldbalanceDest'], 90))\n",
    "print('mean of the balance before transactions in dest.  of no fraud transactions:',fraud_no_fraud['oldbalanceDest'].mean(),'Percentile 90:',np.percentile(fraud_no_fraud['oldbalanceDest'], 90)\n",
    "     )\n",
    "print('Very intuitive, less balance in dest. for fraud transactions')"
   ]
  },
  {
   "cell_type": "code",
   "execution_count": 361,
   "metadata": {},
   "outputs": [
    {
     "data": {
      "image/png": "[encoded data removed]",
      "text/plain": [
       "<Figure size 720x432 with 1 Axes>"
      ]
     },
     "metadata": {},
     "output_type": "display_data"
    },
    {
     "name": "stdout",
     "output_type": "stream",
     "text": [
      "mean of the balance in dest. after transactions  of fraud transactions: 1319728.4615573774 Percentile 90: 3551261.598000004\n",
      "mean of the balance after transactions in dest.  of no fraud transactions: 1209828.1800797079 Percentile 90: 3150868.279\n",
      "Very intuitive, less balance in dest. for fraud transactions\n"
     ]
    }
   ],
   "source": [
    "import pandas as pd\n",
    "import seaborn as sns\n",
    "import matplotlib.pyplot as plt\n",
    "\n",
    "\n",
    "sns.set(style=\"whitegrid\")\n",
    "\n",
    "\n",
    "plt.figure(figsize=(10, 6))\n",
    "\n",
    "sns.kdeplot(fraud_fraud['newbalanceDest'], shade=True, label='Fraud flag = 1', color='blue')\n",
    "sns.kdeplot(fraud_no_fraud['newbalanceDest'], shade=True, label='Fraud flag = 0', color='red')\n",
    "\n",
    "# Añadir título y etiquetas de los ejes\n",
    "plt.title('Balance before the transaction distribution of sample with fraud and without fraud')\n",
    "plt.xlabel('newbalanceDest')\n",
    "plt.ylabel('Density')\n",
    "\n",
    "# Añadir una leyenda\n",
    "plt.legend()\n",
    "\n",
    "# Mostrar el gráfico\n",
    "plt.show()\n",
    "print('mean of the balance in dest. after transactions  of fraud transactions:',fraud_fraud['newbalanceDest'].mean(),'Percentile 90:',np.percentile(fraud_fraud['newbalanceDest'], 90))\n",
    "print('mean of the balance after transactions in dest.  of no fraud transactions:',fraud_no_fraud['newbalanceDest'].mean(),'Percentile 90:',np.percentile(fraud_no_fraud['newbalanceDest'], 90)\n",
    "     )\n",
    "print('Very intuitive, less balance in dest. for fraud transactions')"
   ]
  },
  {
   "cell_type": "code",
   "execution_count": 362,
   "metadata": {},
   "outputs": [
    {
     "name": "stdout",
     "output_type": "stream",
     "text": [
      "['TRANSFER' 'CASH_OUT']\n",
      "['PAYMENT' 'CASH_OUT' 'CASH_IN' 'TRANSFER' 'DEBIT']\n"
     ]
    }
   ],
   "source": [
    "print(fraud_fraud['type'].unique())\n",
    "print(fraud_no_fraud['type'].unique())"
   ]
  },
  {
   "cell_type": "code",
   "execution_count": 363,
   "metadata": {},
   "outputs": [],
   "source": [
    "label_mapping = {'PAYMENT': 0, 'CASH_IN': 0, 'CASH_OUT': 1, 'TRANSFER': 1, 'DEBIT': 0}\n",
    "\n",
    "# Aplicar el mapeo al DataFrame\n",
    "fraud['type_mapped'] = fraud['type'].map(label_mapping)\n",
    "\n",
    "# Ahora puedes binarizar la columna type_mapped\n",
    "# Define los límites de los bins\n",
    "bins = [0, 1]  # Los límites de los bins deben incluir todos los valores posibles, más un límite adicional para el final\n",
    "\n",
    "# Etiquetas para los bins\n",
    "bin_labels = ['Bin1', 'Bin2', 'Bin3', 'Bin4', 'Bin5']"
   ]
  },
  {
   "cell_type": "code",
   "execution_count": 364,
   "metadata": {},
   "outputs": [
    {
     "name": "stdout",
     "output_type": "stream",
     "text": [
      "122\n",
      "92924\n"
     ]
    }
   ],
   "source": [
    "print(fraud_fraud['nameDest'].nunique())\n",
    "print(fraud_no_fraud['nameDest'].nunique())\n",
    "\n",
    "fraud_destinations = fraud.groupby('nameDest')['isFraud'].max()\n",
    "\n",
    "# Luego, crea una nueva columna 'Fraud_Dest' que sea 1 si el indicador de fraude es 1 para algún registro en el grupo, 0 en caso contrario\n",
    "fraud['Fraud_Dest'] = fraud['nameDest'].map(fraud_destinations)\n",
    "\n",
    "# Si algún registro en 'isFraud' es 1 para un 'nameDest', 'Fraud_Dest' será 1 para todos los registros con ese 'nameDest'\n",
    "\n",
    "# Rellena los NaN con 0 en caso de que no haya habido ningún fraude en ese 'nameDest'\n",
    "fraud['Fraud_Dest'].fillna(0, inplace=True)\n"
   ]
  },
  {
   "cell_type": "code",
   "execution_count": 403,
   "metadata": {},
   "outputs": [
    {
     "name": "stdout",
     "output_type": "stream",
     "text": [
      "122\n",
      "99877\n"
     ]
    },
    {
     "data": {
      "text/plain": [
       "Fraud_Relation_Name\n",
       "C1000057469C1362759065    0\n",
       "C1000057469C728959852     0\n",
       "C1000079902C1754022041    0\n",
       "C1000124976C1226571881    0\n",
       "C1000156006C414938147     0\n",
       "                         ..\n",
       "M999638185C1871777216     0\n",
       "M999832957C632738020      0\n",
       "M99985492C784440195       0\n",
       "M999863673C1009530817     0\n",
       "M999955508C446239183      0\n",
       "Name: isFraud, Length: 100000, dtype: int64"
      ]
     },
     "execution_count": 403,
     "metadata": {},
     "output_type": "execute_result"
    }
   ],
   "source": [
    "print(fraud_fraud['nameOrig'].nunique())\n",
    "print(fraud_no_fraud['nameOrig'].nunique())\n",
    "\n",
    "fraud_orig = fraud.groupby('nameOrig')['isFraud'].max()\n",
    "\n",
    "# Luego, crea una nueva columna 'Fraud_Dest' que sea 1 si el indicador de fraude es 1 para algún registro en el grupo, 0 en caso contrario\n",
    "fraud['Fraud_Orig'] = fraud['nameOrig'].map(fraud_destinations)\n",
    "\n",
    "# Si algún registro en 'isFraud' es 1 para un 'nameDest', 'Fraud_Dest' será 1 para todos los registros con ese 'nameDest'\n",
    "\n",
    "# Rellena los NaN con 0 en caso de que no haya habido ningún fraude en ese 'nameDest'\n",
    "fraud['Fraud_Orig'].fillna(0, inplace=True)\n",
    "fraud['Fraud_Relation']=fraud['Fraud_Dest']+fraud['Fraud_Orig']\n",
    "\n",
    "fraud['Fraud_Relation_Name']=fraud['nameDest']+fraud['nameOrig']\n",
    "fraud_rel = fraud.groupby('Fraud_Relation_Name')['isFraud'].max()\n",
    "\n",
    "fraud['Fraud_rel'] = fraud['Fraud_Relation_Name'].map(fraud_rel)\n",
    "\n",
    "# Luego, crea una nueva columna 'Fraud_Dest' que sea 1 si el indicador de fraude es 1 para algún registro en el grupo, 0 en caso contrario\n",
    "fraud['Fraud_Orig'] = fraud['nameOrig'].map(fraud_destinations)\n",
    "fraud[fraud['isFraud']==1][['Fraud_Relation_Name']]\n",
    "fraud_rel"
   ]
  },
  {
   "cell_type": "code",
   "execution_count": 404,
   "metadata": {},
   "outputs": [],
   "source": [
    "fraud_fraud = fraud[fraud['isFraud']==1]\n",
    "fraud_no_fraud = fraud[fraud['isFraud']==0]\n"
   ]
  },
  {
   "cell_type": "markdown",
   "metadata": {},
   "source": [
    "### Run a logisitc regression classifier and evaluate its accuracy."
   ]
  },
  {
   "cell_type": "code",
   "execution_count": 407,
   "metadata": {},
   "outputs": [
    {
     "name": "stdout",
     "output_type": "stream",
     "text": [
      "Candidate variables: step, amount and choosing one of these, as there are correlated:newbalanceDest,oldbalanceDest\n",
      "Index(['step', 'type', 'amount', 'nameOrig', 'oldbalanceOrg', 'newbalanceOrig',\n",
      "       'nameDest', 'oldbalanceDest', 'newbalanceDest', 'isFraud',\n",
      "       'isFlaggedFraud', 'type_mapped', 'Fraud_Dest', 'Fraud_Orig',\n",
      "       'Fraud_Relation', 'Fraud_Relation_Name', 'Fraud_rel'],\n",
      "      dtype='object')\n",
      "Model A SCORE: 1.0\n",
      "Model B SCORE: 0.99844\n",
      "Precision Model A: 1.0\n",
      "Recall Model A: 1.0\n",
      "F1-score Model A: 1.0\n",
      "Precision Model B: 0.3333333333333333\n",
      "Recall Model B: 0.02631578947368421\n",
      "F1-score Model B: 0.048780487804878044\n"
     ]
    }
   ],
   "source": [
    "print('Candidate variables: step, amount and choosing one of these, as there are correlated:newbalanceDest,oldbalanceDest')\n",
    "print(fraud.columns)  # Imprimir los nombres de las columnas\n",
    "X_A = fraud[['type_mapped','isFlaggedFraud','Fraud_rel']]\n",
    "#'amount', 'oldbalanceOrg', 'oldbalanceDest'\n",
    "y_A = fraud['isFraud']\n",
    "from sklearn.model_selection import train_test_split\n",
    "X_train_A, X_test_A, y_train_A, y_test_A = train_test_split(X_A, y_A)\n",
    "\n",
    "X_B = fraud[['amount', 'newbalanceOrig', 'newbalanceDest','type_mapped','isFlaggedFraud','Fraud_rel']]\n",
    "y_B = fraud['isFraud']\n",
    "\n",
    "X_train_B, X_test_B, y_train_B, y_test_B = train_test_split(X_B, y_B)\n",
    "from sklearn.linear_model import LogisticRegression\n",
    "\n",
    "Regression_Model_A = LogisticRegression(max_iter=1000)\n",
    "Regression_Model_A.fit(X_train_A, y_train_A)\n",
    "print('Model A SCORE:', Regression_Model_A.score(X_test_A, y_test_A))\n",
    "\n",
    "Regression_Model_B = LogisticRegression(max_iter=1000)\n",
    "Regression_Model_B.fit(X_train_B, y_train_B)\n",
    "print('Model B SCORE:', Regression_Model_B.score(X_test_B, y_test_B))\n",
    "\n",
    "from sklearn.metrics import precision_score\n",
    "from sklearn.metrics import recall_score\n",
    "from sklearn.metrics import f1_score\n",
    "\n",
    "# Calcular precisión, recall y F1-score para el modelo A\n",
    "y_pred_A = Regression_Model_A.predict(X_test_A)\n",
    "print(\"Precision Model A:\", precision_score(y_test_A, y_pred_A))\n",
    "print(\"Recall Model A:\", recall_score(y_test_A, y_pred_A))\n",
    "print(\"F1-score Model A:\", f1_score(y_test_A, y_pred_A))\n",
    "\n",
    "# Calcular precisión, recall y F1-score para el modelo B\n",
    "y_pred_B = Regression_Model_B.predict(X_test_B)\n",
    "print(\"Precision Model B:\", precision_score(y_test_B, y_pred_B))\n",
    "print(\"Recall Model B:\", recall_score(y_test_B, y_pred_B))\n",
    "print(\"F1-score Model B:\", f1_score(y_test_B, y_pred_B))"
   ]
  },
  {
   "cell_type": "code",
   "execution_count": 427,
   "metadata": {},
   "outputs": [
    {
     "name": "stdout",
     "output_type": "stream",
     "text": [
      "Candidate variables: step, amount and choosing one of these, as there are correlated:newbalanceDest,oldbalanceDest\n",
      "Index(['step', 'type', 'amount', 'nameOrig', 'oldbalanceOrg', 'newbalanceOrig',\n",
      "       'nameDest', 'oldbalanceDest', 'newbalanceDest', 'isFraud',\n",
      "       'isFlaggedFraud', 'type_mapped', 'Fraud_Dest', 'Fraud_Orig',\n",
      "       'Fraud_Relation', 'Fraud_Relation_Name', 'Fraud_rel'],\n",
      "      dtype='object')\n",
      "Model C SCORE: 1.0\n",
      "Precision Model C: 1.0\n",
      "Recall Model C: 1.0\n",
      "F1-score Model C: 1.0\n"
     ]
    },
    {
     "data": {
      "text/plain": [
       "array([[24964,     0],\n",
       "       [    0,    36]], dtype=int64)"
      ]
     },
     "execution_count": 427,
     "metadata": {},
     "output_type": "execute_result"
    }
   ],
   "source": [
    "print('Candidate variables: step, amount and choosing one of these, as there are correlated:newbalanceDest,oldbalanceDest')\n",
    "print(fraud.columns)  # Imprimir los nombres de las columnas\n",
    "X_C= fraud[['type_mapped','Fraud_rel']]\n",
    "#'amount', 'oldbalanceOrg', 'oldbalanceDest','isFlaggedFraud',\n",
    "y_C = fraud['isFraud']\n",
    "from sklearn.model_selection import train_test_split\n",
    "X_train_C, X_test_C, y_train_C, y_test_C = train_test_split(X_C, y_C)\n",
    "\n",
    "\n",
    "Regression_Model_C = LogisticRegression(max_iter=1000)\n",
    "Regression_Model_C.fit(X_train_C, y_train_C)\n",
    "print('Model C SCORE:', Regression_Model_C.score(X_test_C, y_test_C))\n",
    "\n",
    "# Calcular precisión, recall y F1-score para el modelo A\n",
    "y_pred_C = Regression_Model_A.predict(X_test_C)\n",
    "print(\"Precision Model C:\", precision_score(y_test_C, y_pred_C))\n",
    "print(\"Recall Model C:\", recall_score(y_test_C, y_pred_C))\n",
    "print(\"F1-score Model C:\", f1_score(y_test_C, y_pred_C))\n",
    "confusion_matrix(y_test_C,y_pred_C)\n"
   ]
  },
  {
   "cell_type": "code",
   "execution_count": 408,
   "metadata": {},
   "outputs": [
    {
     "data": {
      "text/plain": [
       "array([[24960,     2],\n",
       "       [   37,     1]], dtype=int64)"
      ]
     },
     "execution_count": 408,
     "metadata": {},
     "output_type": "execute_result"
    }
   ],
   "source": [
    "from sklearn.metrics import confusion_matrix\n",
    "confusion_matrix(y_test_B,y_pred_B)"
   ]
  },
  {
   "cell_type": "code",
   "execution_count": 409,
   "metadata": {},
   "outputs": [
    {
     "data": {
      "text/plain": [
       "array([[24967,     0],\n",
       "       [    0,    33]], dtype=int64)"
      ]
     },
     "execution_count": 409,
     "metadata": {},
     "output_type": "execute_result"
    }
   ],
   "source": [
    "from sklearn.metrics import confusion_matrix\n",
    "confusion_matrix(y_test_A,y_pred_A)"
   ]
  },
  {
   "cell_type": "markdown",
   "metadata": {},
   "source": [
    "# Oversamping over \"A\" approach :"
   ]
  },
  {
   "cell_type": "code",
   "execution_count": 410,
   "metadata": {},
   "outputs": [
    {
     "data": {
      "text/plain": [
       "(75000, 4)"
      ]
     },
     "metadata": {},
     "output_type": "display_data"
    },
    {
     "data": {
      "text/html": [
       "<div>\n",
       "<style scoped>\n",
       "    .dataframe tbody tr th:only-of-type {\n",
       "        vertical-align: middle;\n",
       "    }\n",
       "\n",
       "    .dataframe tbody tr th {\n",
       "        vertical-align: top;\n",
       "    }\n",
       "\n",
       "    .dataframe thead th {\n",
       "        text-align: right;\n",
       "    }\n",
       "</style>\n",
       "<table border=\"1\" class=\"dataframe\">\n",
       "  <thead>\n",
       "    <tr style=\"text-align: right;\">\n",
       "      <th></th>\n",
       "      <th>type_mapped</th>\n",
       "      <th>isFlaggedFraud</th>\n",
       "      <th>Fraud_rel</th>\n",
       "      <th>isFraud</th>\n",
       "    </tr>\n",
       "  </thead>\n",
       "  <tbody>\n",
       "    <tr>\n",
       "      <th>19431</th>\n",
       "      <td>0</td>\n",
       "      <td>0</td>\n",
       "      <td>0</td>\n",
       "      <td>0</td>\n",
       "    </tr>\n",
       "    <tr>\n",
       "      <th>33278</th>\n",
       "      <td>0</td>\n",
       "      <td>0</td>\n",
       "      <td>0</td>\n",
       "      <td>0</td>\n",
       "    </tr>\n",
       "    <tr>\n",
       "      <th>44286</th>\n",
       "      <td>1</td>\n",
       "      <td>0</td>\n",
       "      <td>0</td>\n",
       "      <td>0</td>\n",
       "    </tr>\n",
       "    <tr>\n",
       "      <th>64594</th>\n",
       "      <td>0</td>\n",
       "      <td>0</td>\n",
       "      <td>0</td>\n",
       "      <td>0</td>\n",
       "    </tr>\n",
       "    <tr>\n",
       "      <th>8775</th>\n",
       "      <td>1</td>\n",
       "      <td>0</td>\n",
       "      <td>0</td>\n",
       "      <td>0</td>\n",
       "    </tr>\n",
       "  </tbody>\n",
       "</table>\n",
       "</div>"
      ],
      "text/plain": [
       "       type_mapped  isFlaggedFraud  Fraud_rel  isFraud\n",
       "19431            0               0          0        0\n",
       "33278            0               0          0        0\n",
       "44286            1               0          0        0\n",
       "64594            0               0          0        0\n",
       "8775             1               0          0        0"
      ]
     },
     "execution_count": 410,
     "metadata": {},
     "output_type": "execute_result"
    }
   ],
   "source": [
    "from sklearn.utils import resample\n",
    "train = pd.concat([X_train_A, y_train_A],axis=1)\n",
    "display(train.shape)\n",
    "train.head()\n"
   ]
  },
  {
   "cell_type": "code",
   "execution_count": 411,
   "metadata": {},
   "outputs": [
    {
     "data": {
      "text/plain": [
       "(89, 4)"
      ]
     },
     "metadata": {},
     "output_type": "display_data"
    },
    {
     "data": {
      "text/plain": [
       "(74911, 4)"
      ]
     },
     "metadata": {},
     "output_type": "display_data"
    }
   ],
   "source": [
    "yes_fraud = train[train['isFraud']==1]\n",
    "no_fraud = train[train['isFraud']==0]\n",
    "display(yes_fraud.shape)\n",
    "display(no_fraud.shape)"
   ]
  },
  {
   "cell_type": "code",
   "execution_count": 412,
   "metadata": {},
   "outputs": [
    {
     "data": {
      "text/plain": [
       "(74911, 4)"
      ]
     },
     "metadata": {},
     "output_type": "display_data"
    }
   ],
   "source": [
    "yes_fraud_oversampled = resample(yes_fraud, #<- sample from here\n",
    "                                    replace=True, #<- we need replacement, since we don't have enough data otherwise\n",
    "                                    n_samples = len(no_fraud),#<- make both sets the same size\n",
    "                                    random_state=0)\n",
    "display(yes_fraud_oversampled.shape)"
   ]
  },
  {
   "cell_type": "code",
   "execution_count": 413,
   "metadata": {},
   "outputs": [
    {
     "data": {
      "text/html": [
       "<div>\n",
       "<style scoped>\n",
       "    .dataframe tbody tr th:only-of-type {\n",
       "        vertical-align: middle;\n",
       "    }\n",
       "\n",
       "    .dataframe tbody tr th {\n",
       "        vertical-align: top;\n",
       "    }\n",
       "\n",
       "    .dataframe thead th {\n",
       "        text-align: right;\n",
       "    }\n",
       "</style>\n",
       "<table border=\"1\" class=\"dataframe\">\n",
       "  <thead>\n",
       "    <tr style=\"text-align: right;\">\n",
       "      <th></th>\n",
       "      <th>type_mapped</th>\n",
       "      <th>isFlaggedFraud</th>\n",
       "      <th>Fraud_rel</th>\n",
       "      <th>isFraud</th>\n",
       "    </tr>\n",
       "  </thead>\n",
       "  <tbody>\n",
       "    <tr>\n",
       "      <th>19431</th>\n",
       "      <td>0</td>\n",
       "      <td>0</td>\n",
       "      <td>0</td>\n",
       "      <td>0</td>\n",
       "    </tr>\n",
       "    <tr>\n",
       "      <th>33278</th>\n",
       "      <td>0</td>\n",
       "      <td>0</td>\n",
       "      <td>0</td>\n",
       "      <td>0</td>\n",
       "    </tr>\n",
       "    <tr>\n",
       "      <th>44286</th>\n",
       "      <td>1</td>\n",
       "      <td>0</td>\n",
       "      <td>0</td>\n",
       "      <td>0</td>\n",
       "    </tr>\n",
       "    <tr>\n",
       "      <th>64594</th>\n",
       "      <td>0</td>\n",
       "      <td>0</td>\n",
       "      <td>0</td>\n",
       "      <td>0</td>\n",
       "    </tr>\n",
       "    <tr>\n",
       "      <th>8775</th>\n",
       "      <td>1</td>\n",
       "      <td>0</td>\n",
       "      <td>0</td>\n",
       "      <td>0</td>\n",
       "    </tr>\n",
       "  </tbody>\n",
       "</table>\n",
       "</div>"
      ],
      "text/plain": [
       "       type_mapped  isFlaggedFraud  Fraud_rel  isFraud\n",
       "19431            0               0          0        0\n",
       "33278            0               0          0        0\n",
       "44286            1               0          0        0\n",
       "64594            0               0          0        0\n",
       "8775             1               0          0        0"
      ]
     },
     "execution_count": 413,
     "metadata": {},
     "output_type": "execute_result"
    }
   ],
   "source": [
    "train_oversampled = pd.concat([no_fraud,yes_fraud_oversampled])\n",
    "train_oversampled.head()"
   ]
  },
  {
   "cell_type": "code",
   "execution_count": 421,
   "metadata": {},
   "outputs": [
    {
     "name": "stdout",
     "output_type": "stream",
     "text": [
      "precision:  1.0\n",
      "recall:  1.0\n",
      "f1:  1.0\n",
      "Model B OVERSAMPLED SCORE: 1.0\n"
     ]
    },
    {
     "data": {
      "text/plain": [
       "array([[24967,     0],\n",
       "       [    0,    33]], dtype=int64)"
      ]
     },
     "execution_count": 421,
     "metadata": {},
     "output_type": "execute_result"
    }
   ],
   "source": [
    "y_train_over = train_oversampled['isFraud'].copy()\n",
    "X_train_over = train_oversampled.drop('isFraud',axis = 1).copy()\n",
    "LR = LogisticRegression(max_iter=1000)\n",
    "LR.fit(X_train_over, y_train_over)\n",
    "pred = LR.predict(X_test_A)\n",
    "from sklearn.metrics import precision_score\n",
    "from sklearn.metrics import recall_score\n",
    "from sklearn.metrics import f1_score\n",
    "print(\"precision: \",precision_score(y_test_A,pred))\n",
    "print(\"recall: \",recall_score(y_test_A,pred))\n",
    "print(\"f1: \",f1_score(y_test_A,pred))\n",
    "print('Model B OVERSAMPLED SCORE:',LR.score(X_test_A, y_test_A))\n",
    "from sklearn.metrics import confusion_matrix\n",
    "\n",
    "\n",
    "confusion_matrix(y_test_A,pred)"
   ]
  },
  {
   "cell_type": "markdown",
   "metadata": {},
   "source": [
    "# Undersampling over \"A\" approach:"
   ]
  },
  {
   "cell_type": "code",
   "execution_count": 417,
   "metadata": {},
   "outputs": [
    {
     "data": {
      "text/plain": [
       "(89, 4)"
      ]
     },
     "metadata": {},
     "output_type": "display_data"
    }
   ],
   "source": [
    "no_fraud_undersampled = resample(no_fraud, #<- sample from here\n",
    "                                    replace=True, #<- we need replacement, since we don't have enough data otherwise\n",
    "                                    n_samples = len(yes_fraud),#<- make both sets the same size\n",
    "                                    random_state=0)\n",
    "display(no_fraud_undersampled.shape)"
   ]
  },
  {
   "cell_type": "code",
   "execution_count": 418,
   "metadata": {},
   "outputs": [
    {
     "data": {
      "text/html": [
       "<div>\n",
       "<style scoped>\n",
       "    .dataframe tbody tr th:only-of-type {\n",
       "        vertical-align: middle;\n",
       "    }\n",
       "\n",
       "    .dataframe tbody tr th {\n",
       "        vertical-align: top;\n",
       "    }\n",
       "\n",
       "    .dataframe thead th {\n",
       "        text-align: right;\n",
       "    }\n",
       "</style>\n",
       "<table border=\"1\" class=\"dataframe\">\n",
       "  <thead>\n",
       "    <tr style=\"text-align: right;\">\n",
       "      <th></th>\n",
       "      <th>type_mapped</th>\n",
       "      <th>isFlaggedFraud</th>\n",
       "      <th>Fraud_rel</th>\n",
       "      <th>isFraud</th>\n",
       "    </tr>\n",
       "  </thead>\n",
       "  <tbody>\n",
       "    <tr>\n",
       "      <th>26598</th>\n",
       "      <td>1</td>\n",
       "      <td>0</td>\n",
       "      <td>1</td>\n",
       "      <td>1</td>\n",
       "    </tr>\n",
       "    <tr>\n",
       "      <th>83479</th>\n",
       "      <td>1</td>\n",
       "      <td>0</td>\n",
       "      <td>1</td>\n",
       "      <td>1</td>\n",
       "    </tr>\n",
       "    <tr>\n",
       "      <th>51432</th>\n",
       "      <td>1</td>\n",
       "      <td>0</td>\n",
       "      <td>1</td>\n",
       "      <td>1</td>\n",
       "    </tr>\n",
       "    <tr>\n",
       "      <th>48899</th>\n",
       "      <td>1</td>\n",
       "      <td>0</td>\n",
       "      <td>1</td>\n",
       "      <td>1</td>\n",
       "    </tr>\n",
       "    <tr>\n",
       "      <th>48742</th>\n",
       "      <td>1</td>\n",
       "      <td>0</td>\n",
       "      <td>1</td>\n",
       "      <td>1</td>\n",
       "    </tr>\n",
       "  </tbody>\n",
       "</table>\n",
       "</div>"
      ],
      "text/plain": [
       "       type_mapped  isFlaggedFraud  Fraud_rel  isFraud\n",
       "26598            1               0          1        1\n",
       "83479            1               0          1        1\n",
       "51432            1               0          1        1\n",
       "48899            1               0          1        1\n",
       "48742            1               0          1        1"
      ]
     },
     "execution_count": 418,
     "metadata": {},
     "output_type": "execute_result"
    }
   ],
   "source": [
    "train_undersampled = pd.concat([yes_fraud,no_fraud_undersampled])\n",
    "train_undersampled.head()"
   ]
  },
  {
   "cell_type": "code",
   "execution_count": 420,
   "metadata": {},
   "outputs": [
    {
     "name": "stdout",
     "output_type": "stream",
     "text": [
      "precision:  1.0\n",
      "recall:  1.0\n",
      "f1:  1.0\n",
      "Model B UNDERSAMPLED SCORE: 1.0\n"
     ]
    },
    {
     "data": {
      "text/plain": [
       "array([[24967,     0],\n",
       "       [    0,    33]], dtype=int64)"
      ]
     },
     "execution_count": 420,
     "metadata": {},
     "output_type": "execute_result"
    }
   ],
   "source": [
    "y_train_under = train_undersampled['isFraud'].copy()\n",
    "X_train_under = train_undersampled.drop('isFraud',axis = 1).copy()\n",
    "LR_under = LogisticRegression(max_iter=1000)\n",
    "LR_under.fit(X_train_under, y_train_under)\n",
    "pred_under = LR_under.predict(X_test_A)\n",
    "from sklearn.metrics import precision_score\n",
    "from sklearn.metrics import recall_score\n",
    "from sklearn.metrics import f1_score\n",
    "print(\"precision: \",precision_score(y_test_A,pred_under))\n",
    "print(\"recall: \",recall_score(y_test_A,pred_under))\n",
    "print(\"f1: \",f1_score(y_test_A,pred_under))\n",
    "print('Model B UNDERSAMPLED SCORE:',LR_under.score(X_test_A, y_test_A))\n",
    "from sklearn.metrics import confusion_matrix\n",
    "\n",
    "\n",
    "confusion_matrix(y_test_A,pred_under)"
   ]
  },
  {
   "cell_type": "markdown",
   "metadata": {},
   "source": [
    "### Now pick a model of your choice and evaluate its accuracy."
   ]
  },
  {
   "cell_type": "code",
   "execution_count": 430,
   "metadata": {},
   "outputs": [
    {
     "name": "stdout",
     "output_type": "stream",
     "text": [
      "Model C SCORE: 1.0\n",
      "Precision Model C: 1.0\n",
      "Recall Model C: 1.0\n",
      "F1-score Model C: 1.0\n",
      "Model C, that only considers the type of the transaction and the created variable that aggregates the IDs of origin and destine is robust because has no errors, good precision withou false positives and good recall without false negatives\n"
     ]
    },
    {
     "data": {
      "text/plain": [
       "array([[24964,     0],\n",
       "       [    0,    36]], dtype=int64)"
      ]
     },
     "execution_count": 430,
     "metadata": {},
     "output_type": "execute_result"
    }
   ],
   "source": [
    "# Your code here\n",
    "\n",
    "print('Model C SCORE:', Regression_Model_C.score(X_test_C, y_test_C))\n",
    "print(\"Precision Model C:\", precision_score(y_test_C, y_pred_C))\n",
    "print(\"Recall Model C:\", recall_score(y_test_C, y_pred_C))\n",
    "print(\"F1-score Model C:\", f1_score(y_test_C, y_pred_C))\n",
    "print('Model C, that only considers the type of the transaction and the created variable that aggregates the IDs of origin and destine is robust because has no errors, good precision withou false positives and good recall without false negatives')\n",
    "confusion_matrix(y_test_C,y_pred_C)"
   ]
  },
  {
   "cell_type": "markdown",
   "metadata": {},
   "source": [
    "### Which model worked better and how do you know?"
   ]
  },
  {
   "cell_type": "code",
   "execution_count": 431,
   "metadata": {},
   "outputs": [
    {
     "name": "stdout",
     "output_type": "stream",
     "text": [
      "Model C, that only considers the type of the transaction and the created variable that aggregates the IDs of origin and destine is robust because has no errors, good precision withou false positives and good recall without false negatives\n"
     ]
    }
   ],
   "source": [
    "# Your response here\n",
    "print('Model C, that only considers the type of the transaction and the created variable that aggregates the IDs of origin and destine is robust because has no errors, good precision withou false positives and good recall without false negatives')\n",
    "confusion_matrix(y_test_C,y_pred_C)\n",
    "\n",
    "fraud.to_csv('fraud_reduced_sample.csv')"
   ]
  },
  {
   "cell_type": "markdown",
   "metadata": {},
   "source": [
    "### Note: before doing the first commit, make sure you don't include the large csv file, either by adding it to .gitignore, or by deleting it."
   ]
  }
 ],
 "metadata": {
  "kernelspec": {
   "display_name": "Python 3",
   "language": "python",
   "name": "python3"
  },
  "language_info": {
   "codemirror_mode": {
    "name": "ipython",
    "version": 3
   },
   "file_extension": ".py",
   "mimetype": "text/x-python",
   "name": "python",
   "nbconvert_exporter": "python",
   "pygments_lexer": "ipython3",
   "version": "3.7.6"
  }
 },
 "nbformat": 4,
 "nbformat_minor": 2
}
